{
  "nbformat": 4,
  "nbformat_minor": 0,
  "metadata": {
    "colab": {
      "name": "HW3.ipynb",
      "provenance": [],
      "collapsed_sections": [],
      "authorship_tag": "ABX9TyPstjNhySF+GCEHI1yxbeOD",
      "include_colab_link": true
    },
    "kernelspec": {
      "name": "python3",
      "display_name": "Python 3"
    }
  },
  "cells": [
    {
      "cell_type": "markdown",
      "metadata": {
        "id": "view-in-github",
        "colab_type": "text"
      },
      "source": [
        "<a href=\"https://colab.research.google.com/github/maleahjamieson/LittleLittleBear/blob/master/HW_3/HW3.ipynb\" target=\"_parent\"><img src=\"https://colab.research.google.com/assets/colab-badge.svg\" alt=\"Open In Colab\"/></a>"
      ]
    },
    {
      "cell_type": "markdown",
      "metadata": {
        "id": "tz7n26fn6rh_",
        "colab_type": "text"
      },
      "source": [
        "#Problem 1"
      ]
    },
    {
      "cell_type": "code",
      "metadata": {
        "id": "S5K2WsA38ZxZ",
        "colab_type": "code",
        "colab": {}
      },
      "source": [
        "import numpy as np\n",
        "%matplotlib inline\n",
        "import matplotlib as mpl\n",
        "import matplotlib.pyplot as plt"
      ],
      "execution_count": 0,
      "outputs": []
    },
    {
      "cell_type": "markdown",
      "metadata": {
        "id": "rk4m-ELef5qh",
        "colab_type": "text"
      },
      "source": [
        "`get_random_data` takes in `w, b, mu, sigma, m` and outputs the random data in a list of 2 matrices, `labels` and `data`.\n",
        "\n",
        "`data` contains the points to be plotted and `labels` contains the class label for each point in `data`."
      ]
    },
    {
      "cell_type": "code",
      "metadata": {
        "id": "PYYnW8WW6nsN",
        "colab_type": "code",
        "colab": {}
      },
      "source": [
        "def get_random_data(w, b, mu, sigma, m):\n",
        "  data = np.empty((m,2))\n",
        "  labels = np.empty((m, 1), dtype=int)\n",
        "  for i in range(m):\n",
        "    #choose class label 0 or 1 with a 50/50 chance\n",
        "    c = np.random.randint(0,2)\n",
        "\n",
        "    #pick x_1 within [0,1)\n",
        "    x_1 = np.random.random()\n",
        "\n",
        "    #find noise n using mu and sigma\n",
        "    n = np.random.default_rng().normal(mu, sigma)\n",
        "    \n",
        "    #get x_2\n",
        "    x_2 = (w * x_1) + b + ((-1) ** c * n)\n",
        "    \n",
        "    #put these into the arrays\n",
        "    data[i-1] = [x_1,x_2]\n",
        "    labels[i-1] = c\n",
        "  \n",
        "  #print(\"data:\\n\" + str(data))\n",
        "  #print(\"labels:\\n\" + str(labels))\n",
        "  #display_random_data(labels, data)\n",
        "  return [labels, data]\n"
      ],
      "execution_count": 0,
      "outputs": []
    },
    {
      "cell_type": "markdown",
      "metadata": {
        "id": "i50G2iTFgfzL",
        "colab_type": "text"
      },
      "source": [
        "`display_random_data` takes 2 matrices `l` (the labels) and `d` (the data) and plots the data.\n",
        "\n",
        "When `l == 0`, the point is <font color = 'blue'>blue</font> as it is above the line used to generate the data.\n",
        "\n",
        "When `l == 1`, the point is <font color = 'red'>red</font> as it is below the line used to generate the data.\n",
        "\n",
        "`d` contains the points to be plotted."
      ]
    },
    {
      "cell_type": "code",
      "metadata": {
        "id": "6Q3_eHQsUJuR",
        "colab_type": "code",
        "colab": {}
      },
      "source": [
        "def display_random_data(l, d):\n",
        "  plt.xlabel('x_1')\n",
        "  plt.ylabel('x_2')\n",
        "  for i in range(d.shape[0]):\n",
        "    if(l[i] == 0):\n",
        "      plt.plot(d[i,0],d[i,1], \"b.\")\n",
        "    else:\n",
        "      plt.plot(d[i,0],d[i,1], \"r.\")"
      ],
      "execution_count": 0,
      "outputs": []
    },
    {
      "cell_type": "markdown",
      "metadata": {
        "id": "5pXPBnTLb-5_",
        "colab_type": "text"
      },
      "source": [
        "Below generates the random data and displays it.\n",
        "\n",
        "The **black line** is the true line.\n",
        "\n",
        "Here you can see the values I set for `w, b, mu, sigma, ` and ` m`."
      ]
    },
    {
      "cell_type": "code",
      "metadata": {
        "id": "EeO_Hovx__O2",
        "colab_type": "code",
        "outputId": "2b11011c-cd55-4a85-d19a-41f79180792d",
        "colab": {
          "base_uri": "https://localhost:8080/",
          "height": 297
        }
      },
      "source": [
        "# w, b, mu, sigma, m\n",
        "w = 4\n",
        "b = 1\n",
        "mu = 4\n",
        "sigma = 2\n",
        "m = 5000\n",
        "random_data = get_random_data(w,b,mu,sigma,m)\n",
        "labels = random_data[0]\n",
        "data = random_data[1]\n",
        "display_random_data(labels, data)\n",
        "\n",
        "#this displays the actual line\n",
        "x = np.linspace(0, 1, 2)\n",
        "y = (w*x + b)\n",
        "plt.plot(x,y, '-k')\n",
        "\n",
        "#for debug purposes, print data array and labels\n",
        "#print(data)\n",
        "#print(labels)"
      ],
      "execution_count": 4,
      "outputs": [
        {
          "output_type": "execute_result",
          "data": {
            "text/plain": [
              "[<matplotlib.lines.Line2D at 0x7fcec1e70630>]"
            ]
          },
          "metadata": {
            "tags": []
          },
          "execution_count": 4
        },
        {
          "output_type": "display_data",
          "data": {
            "image/png": "[encoded data removed]",
            "text/plain": [
              "<Figure size 432x288 with 1 Axes>"
            ]
          },
          "metadata": {
            "tags": []
          }
        }
      ]
    },
    {
      "cell_type": "markdown",
      "metadata": {
        "id": "ToDRN0AQhjdl",
        "colab_type": "text"
      },
      "source": [
        "Splitting the labels and data into training and test sets.\n",
        "I split the data into 4000 training / 1000 test because 80% of 5000 is 1000."
      ]
    },
    {
      "cell_type": "code",
      "metadata": {
        "id": "2l0j814Ihi91",
        "colab_type": "code",
        "colab": {}
      },
      "source": [
        "#splitting into training and test sets\n",
        "train_num = 4000\n",
        "#xs are data, ys are labels\n",
        "train_xs = data[:train_num, :]\n",
        "test_xs = data[train_num:, :]\n",
        "\n",
        "train_ys = np.asarray(labels[:train_num])\n",
        "test_ys = np.asarray(labels[train_num:])\n",
        "#print(test_ys)"
      ],
      "execution_count": 0,
      "outputs": []
    },
    {
      "cell_type": "markdown",
      "metadata": {
        "id": "VbxpSNRzcIr6",
        "colab_type": "text"
      },
      "source": [
        "#Problem 2"
      ]
    },
    {
      "cell_type": "markdown",
      "metadata": {
        "id": "sLUi2hsqwv-f",
        "colab_type": "text"
      },
      "source": [
        "Linear Regression using Keras"
      ]
    },
    {
      "cell_type": "code",
      "metadata": {
        "id": "WOSKmUehwvvK",
        "colab_type": "code",
        "colab": {}
      },
      "source": [
        "%tensorflow_version 2.x\n",
        "from tensorflow.keras import models\n",
        "from tensorflow.keras import layers"
      ],
      "execution_count": 0,
      "outputs": []
    },
    {
      "cell_type": "markdown",
      "metadata": {
        "id": "lQVsP9ONS9aS",
        "colab_type": "text"
      },
      "source": [
        "Building and Compiling the Keras Model.\n",
        "\n",
        "Here I used a Dense layer with sigmoid activation with an input dimension of 2 (due to the data being 2 dimensions) and an output dimension of 1.\n",
        "\n",
        "When training the model, I used 40 epochs with a batch size of 100.\n",
        "\n",
        "I get the weights and bias using the `get_weights()` function and print them so I could see their values."
      ]
    },
    {
      "cell_type": "code",
      "metadata": {
        "id": "Z1g9YppkcNvQ",
        "colab_type": "code",
        "outputId": "40d15241-000c-4f56-fbd5-bb55a4f27be2",
        "colab": {
          "base_uri": "https://localhost:8080/",
          "height": 1000
        }
      },
      "source": [
        "#Building and Compiling Keras model\n",
        "network = models.Sequential()\n",
        "network.add(layers.Dense(1, activation='sigmoid', input_dim=2))\n",
        "network.compile(optimizer = 'sgd', loss = 'binary_crossentropy', metrics=[\"accuracy\"])\n",
        "\n",
        "#Training model\n",
        "network.fit(train_xs, train_ys, epochs=40, batch_size=100)\n",
        "\n",
        "#getting the weights\n",
        "weights, bias = network.layers[0].get_weights()\n",
        "print(weights)\n",
        "print(bias)"
      ],
      "execution_count": 7,
      "outputs": [
        {
          "output_type": "stream",
          "text": [
            "Epoch 1/40\n",
            "40/40 [==============================] - 0s 1ms/step - loss: 0.4774 - accuracy: 0.7680\n",
            "Epoch 2/40\n",
            "40/40 [==============================] - 0s 946us/step - loss: 0.4473 - accuracy: 0.7768\n",
            "Epoch 3/40\n",
            "40/40 [==============================] - 0s 965us/step - loss: 0.4199 - accuracy: 0.7878\n",
            "Epoch 4/40\n",
            "40/40 [==============================] - 0s 1ms/step - loss: 0.3950 - accuracy: 0.7977\n",
            "Epoch 5/40\n",
            "40/40 [==============================] - 0s 1ms/step - loss: 0.3726 - accuracy: 0.8092\n",
            "Epoch 6/40\n",
            "40/40 [==============================] - 0s 975us/step - loss: 0.3526 - accuracy: 0.8213\n",
            "Epoch 7/40\n",
            "40/40 [==============================] - 0s 1ms/step - loss: 0.3347 - accuracy: 0.8315\n",
            "Epoch 8/40\n",
            "40/40 [==============================] - 0s 1ms/step - loss: 0.3187 - accuracy: 0.8418\n",
            "Epoch 9/40\n",
            "40/40 [==============================] - 0s 1ms/step - loss: 0.3044 - accuracy: 0.8528\n",
            "Epoch 10/40\n",
            "40/40 [==============================] - 0s 1ms/step - loss: 0.2916 - accuracy: 0.8635\n",
            "Epoch 11/40\n",
            "40/40 [==============================] - 0s 1ms/step - loss: 0.2799 - accuracy: 0.8725\n",
            "Epoch 12/40\n",
            "40/40 [==============================] - 0s 1ms/step - loss: 0.2694 - accuracy: 0.8790\n",
            "Epoch 13/40\n",
            "40/40 [==============================] - 0s 978us/step - loss: 0.2599 - accuracy: 0.8863\n",
            "Epoch 14/40\n",
            "40/40 [==============================] - 0s 1ms/step - loss: 0.2511 - accuracy: 0.8925\n",
            "Epoch 15/40\n",
            "40/40 [==============================] - 0s 1ms/step - loss: 0.2431 - accuracy: 0.8980\n",
            "Epoch 16/40\n",
            "40/40 [==============================] - 0s 1ms/step - loss: 0.2358 - accuracy: 0.9020\n",
            "Epoch 17/40\n",
            "40/40 [==============================] - 0s 1ms/step - loss: 0.2290 - accuracy: 0.9068\n",
            "Epoch 18/40\n",
            "40/40 [==============================] - 0s 1ms/step - loss: 0.2228 - accuracy: 0.9110\n",
            "Epoch 19/40\n",
            "40/40 [==============================] - 0s 1ms/step - loss: 0.2170 - accuracy: 0.9143\n",
            "Epoch 20/40\n",
            "40/40 [==============================] - 0s 1ms/step - loss: 0.2117 - accuracy: 0.9172\n",
            "Epoch 21/40\n",
            "40/40 [==============================] - 0s 1ms/step - loss: 0.2067 - accuracy: 0.9212\n",
            "Epoch 22/40\n",
            "40/40 [==============================] - 0s 1ms/step - loss: 0.2020 - accuracy: 0.9233\n",
            "Epoch 23/40\n",
            "40/40 [==============================] - 0s 965us/step - loss: 0.1977 - accuracy: 0.9262\n",
            "Epoch 24/40\n",
            "40/40 [==============================] - 0s 1ms/step - loss: 0.1936 - accuracy: 0.9275\n",
            "Epoch 25/40\n",
            "40/40 [==============================] - 0s 986us/step - loss: 0.1898 - accuracy: 0.9293\n",
            "Epoch 26/40\n",
            "40/40 [==============================] - 0s 1ms/step - loss: 0.1862 - accuracy: 0.9327\n",
            "Epoch 27/40\n",
            "40/40 [==============================] - 0s 986us/step - loss: 0.1828 - accuracy: 0.9352\n",
            "Epoch 28/40\n",
            "40/40 [==============================] - 0s 1ms/step - loss: 0.1796 - accuracy: 0.9370\n",
            "Epoch 29/40\n",
            "40/40 [==============================] - 0s 1ms/step - loss: 0.1766 - accuracy: 0.9395\n",
            "Epoch 30/40\n",
            "40/40 [==============================] - 0s 1ms/step - loss: 0.1738 - accuracy: 0.9410\n",
            "Epoch 31/40\n",
            "40/40 [==============================] - 0s 1ms/step - loss: 0.1711 - accuracy: 0.9427\n",
            "Epoch 32/40\n",
            "40/40 [==============================] - 0s 1ms/step - loss: 0.1685 - accuracy: 0.9438\n",
            "Epoch 33/40\n",
            "40/40 [==============================] - 0s 1ms/step - loss: 0.1661 - accuracy: 0.9440\n",
            "Epoch 34/40\n",
            "40/40 [==============================] - 0s 1ms/step - loss: 0.1638 - accuracy: 0.9452\n",
            "Epoch 35/40\n",
            "40/40 [==============================] - 0s 992us/step - loss: 0.1616 - accuracy: 0.9460\n",
            "Epoch 36/40\n",
            "40/40 [==============================] - 0s 1ms/step - loss: 0.1595 - accuracy: 0.9463\n",
            "Epoch 37/40\n",
            "40/40 [==============================] - 0s 1ms/step - loss: 0.1575 - accuracy: 0.9475\n",
            "Epoch 38/40\n",
            "40/40 [==============================] - 0s 947us/step - loss: 0.1556 - accuracy: 0.9480\n",
            "Epoch 39/40\n",
            "40/40 [==============================] - 0s 1ms/step - loss: 0.1538 - accuracy: 0.9482\n",
            "Epoch 40/40\n",
            "40/40 [==============================] - 0s 1ms/step - loss: 0.1520 - accuracy: 0.9490\n",
            "[[ 0.069329]\n",
            " [-0.79785 ]]\n",
            "[1.6734198]\n"
          ],
          "name": "stdout"
        }
      ]
    },
    {
      "cell_type": "markdown",
      "metadata": {
        "id": "eaGi0o9iUHSv",
        "colab_type": "text"
      },
      "source": [
        "Evaluating the model and predicting the ys."
      ]
    },
    {
      "cell_type": "code",
      "metadata": {
        "id": "JX10eclVz1jW",
        "colab_type": "code",
        "outputId": "0cd88915-1b6f-4914-99b7-b83f3139a981",
        "colab": {
          "base_uri": "https://localhost:8080/",
          "height": 51
        }
      },
      "source": [
        "network.evaluate(test_xs, test_ys)"
      ],
      "execution_count": 8,
      "outputs": [
        {
          "output_type": "stream",
          "text": [
            "32/32 [==============================] - 0s 1ms/step - loss: 0.1457 - accuracy: 0.9530\n"
          ],
          "name": "stdout"
        },
        {
          "output_type": "execute_result",
          "data": {
            "text/plain": [
              "[0.14566722512245178, 0.953000009059906]"
            ]
          },
          "metadata": {
            "tags": []
          },
          "execution_count": 8
        }
      ]
    },
    {
      "cell_type": "code",
      "metadata": {
        "id": "5EWKG5nf2LHE",
        "colab_type": "code",
        "colab": {}
      },
      "source": [
        "pred_ys = network.predict(test_xs)"
      ],
      "execution_count": 0,
      "outputs": []
    },
    {
      "cell_type": "markdown",
      "metadata": {
        "id": "G5BMnIuJSNiw",
        "colab_type": "text"
      },
      "source": [
        "Below is the graph of the results of my model.\n",
        "The <font color = 'blue'>blue</font> and <font color = 'red'>red</font> dots are the test data.\n",
        "\n",
        "The <font color = 'green'>green line </font> is the true line, found using the data from problem one. The equation for this is:\n",
        "\n",
        "$x_2 = (w * x_1) + b$\n",
        "\n",
        "The **black line** is the separating line, found using the formula:\n",
        "\n",
        "$x_2 = (-(w_1 * x_1) + b )/ w_2$\n",
        "\n",
        "where $w_1$ and $w_2$ are the weights and $b$ is the bias, both found in the **Building and Compiling the Keras Model** code cell."
      ]
    },
    {
      "cell_type": "code",
      "metadata": {
        "id": "YgnhbMnW2Sub",
        "colab_type": "code",
        "outputId": "06b2cd5d-2891-4ecf-c451-0b05197ca4e8",
        "colab": {
          "base_uri": "https://localhost:8080/",
          "height": 297
        }
      },
      "source": [
        "#display the test data\n",
        "display_random_data(test_ys, test_xs)\n",
        "#display_random_data(labels, data)\n",
        "\n",
        "#display the true line\n",
        "x = np.linspace(0, 1, 2)\n",
        "true = (w*x + b)\n",
        "plt.plot(x,true, '-g')\n",
        "\n",
        "#display the separating line\n",
        "pred = (-((weights[0] * x) + bias) / weights[1])\n",
        "plt.plot(x, pred, '-k')"
      ],
      "execution_count": 10,
      "outputs": [
        {
          "output_type": "execute_result",
          "data": {
            "text/plain": [
              "[<matplotlib.lines.Line2D at 0x7fce16c9ce80>]"
            ]
          },
          "metadata": {
            "tags": []
          },
          "execution_count": 10
        },
        {
          "output_type": "display_data",
          "data": {
            "image/png": "[encoded data removed]",
            "text/plain": [
              "<Figure size 432x288 with 1 Axes>"
            ]
          },
          "metadata": {
            "tags": []
          }
        }
      ]
    },
    {
      "cell_type": "markdown",
      "metadata": {
        "id": "uBF0SzmNq240",
        "colab_type": "text"
      },
      "source": [
        "#Problem 3"
      ]
    },
    {
      "cell_type": "markdown",
      "metadata": {
        "id": "OQ_6qpRaq8O2",
        "colab_type": "text"
      },
      "source": [
        "Use numpy to implement a logistic regression model from scratch and train with the data generated in problem 1."
      ]
    },
    {
      "cell_type": "code",
      "metadata": {
        "id": "pMu6_n4grFt0",
        "colab_type": "code",
        "outputId": "d0175e15-01ea-41d8-eb3a-40415f30c21d",
        "colab": {
          "base_uri": "https://localhost:8080/",
          "height": 51
        }
      },
      "source": [
        "#epoch number, same as above\n",
        "epochs = 40\n",
        "\n",
        "#learning rate\n",
        "lr = 0.01\n",
        "\n",
        "#initial value for weight and bias\n",
        "w_i = np.random.randn(1)\n",
        "b_i = np.zeros(1)\n",
        "print(w_i)\n",
        "print(b_i)"
      ],
      "execution_count": 11,
      "outputs": [
        {
          "output_type": "stream",
          "text": [
            "[0.04515342]\n",
            "[0.]\n"
          ],
          "name": "stdout"
        }
      ]
    },
    {
      "cell_type": "markdown",
      "metadata": {
        "id": "CM3BR9fusAJL",
        "colab_type": "text"
      },
      "source": [
        "Linear regression using stochastic gradient descent"
      ]
    },
    {
      "cell_type": "code",
      "metadata": {
        "id": "Xq2ibj1NsA2U",
        "colab_type": "code",
        "outputId": "b3d82f97-ce11-43db-98df-6af431a7ce39",
        "colab": {
          "base_uri": "https://localhost:8080/",
          "height": 51
        }
      },
      "source": [
        "predictions = list()\n",
        "for epoch in np.arange(epochs):\n",
        "  #shuffling the points\n",
        "  shuffle = np.random.permutation(m)\n",
        "  x_shuffled = data[shuffle]\n",
        "  y_shuffled = labels[shuffle]\n",
        "\n",
        "  for i in np.arange(m):\n",
        "    xi = x_shuffled[i:i+1,0]\n",
        "    yi = x_shuffled[i:i+1,1]\n",
        "    y_pred = w_i * xi + b_i\n",
        "    grad_w = xi * (xi * w_i - yi)\n",
        "    grad_b = (y_pred - yi)\n",
        "    predictions.append(y_pred)\n",
        "    w_i -= lr * grad_w\n",
        "    b_i -= lr * grad_b\n",
        "print(w_i)\n",
        "print(b_i)"
      ],
      "execution_count": 12,
      "outputs": [
        {
          "output_type": "stream",
          "text": [
            "[5.61684106]\n",
            "[0.46060785]\n"
          ],
          "name": "stdout"
        }
      ]
    },
    {
      "cell_type": "markdown",
      "metadata": {
        "id": "QevhpuIxt9SP",
        "colab_type": "text"
      },
      "source": [
        "Calculating loss with the sum of squares\n",
        "\n"
      ]
    },
    {
      "cell_type": "code",
      "metadata": {
        "id": "WUMr2SBJt9dk",
        "colab_type": "code",
        "outputId": "f8ff9792-63c6-491d-8658-f48a6d9f4bb2",
        "colab": {
          "base_uri": "https://localhost:8080/",
          "height": 34
        }
      },
      "source": [
        "loss = 0\n",
        "for i in np.arange(1000):\n",
        "  loss += 0.5 ** (w_i * test_xs[i,0] + b_i - test_xs[i,1]) ** 2\n",
        "loss /= 1000\n",
        "\n",
        "print(loss)"
      ],
      "execution_count": 13,
      "outputs": [
        {
          "output_type": "stream",
          "text": [
            "[0.07275038]\n"
          ],
          "name": "stdout"
        }
      ]
    },
    {
      "cell_type": "markdown",
      "metadata": {
        "id": "cbgZG_osYEmr",
        "colab_type": "text"
      },
      "source": [
        "Below is the graph of the results of my model.\n",
        "The <font color = 'blue'>blue</font> and <font color = 'red'>red</font> dots are the test data.\n",
        "\n",
        "The <font color = 'green'>green line </font> is the true line, found using the data from problem one. The equation for this is:\n",
        "\n",
        "$x_2 = (w * x_1) + b$\n",
        "\n",
        "The **black line** is the separating line, found using the formula:\n",
        "\n",
        "$pred = (w_i * x) + b_i)$\n",
        "\n",
        "where $w_i$ is the weight and $b$ is the bias, both found in the **linear regression** code cell."
      ]
    },
    {
      "cell_type": "code",
      "metadata": {
        "id": "0gRGbyiBuhf7",
        "colab_type": "code",
        "outputId": "6a3651c9-39cc-48b6-c2c8-22c4e550fc28",
        "colab": {
          "base_uri": "https://localhost:8080/",
          "height": 297
        }
      },
      "source": [
        "#display the random test data\n",
        "display_random_data(test_ys, test_xs)\n",
        "#display_random_data(labels, data)\n",
        "\n",
        "#display the true line\n",
        "x = np.linspace(0, 1)\n",
        "true = (w*x + b)\n",
        "plt.plot(x,true, '-g')\n",
        "\n",
        "#display the separating line\n",
        "np_pred = ((w_i * x) + b_i)\n",
        "plt.plot(x, np_pred, '-k')"
      ],
      "execution_count": 14,
      "outputs": [
        {
          "output_type": "execute_result",
          "data": {
            "text/plain": [
              "[<matplotlib.lines.Line2D at 0x7fce15145588>]"
            ]
          },
          "metadata": {
            "tags": []
          },
          "execution_count": 14
        },
        {
          "output_type": "display_data",
          "data": {
            "image/png": "[encoded data removed]",
            "text/plain": [
              "<Figure size 432x288 with 1 Axes>"
            ]
          },
          "metadata": {
            "tags": []
          }
        }
      ]
    },
    {
      "cell_type": "markdown",
      "metadata": {
        "id": "To2RJIppDzaO",
        "colab_type": "text"
      },
      "source": [
        "#Sources\n",
        "\n",
        "###Random:\n",
        "\n",
        "https://docs.scipy.org/doc/numpy-1.17.0/reference/random/generated/numpy.random.Generator.normal.html\n",
        "\n",
        "https://docs.scipy.org/doc/numpy-1.14.0/reference/routines.random.html\n",
        "\n",
        "###Plotting:\n",
        "https://jakevdp.github.io/PythonDataScienceHandbook/04.02-simple-scatter-plots.html\n",
        "\n",
        "http://chris35wills.github.io/courses/PythonPackages_matplotlib/matplotlib_scatter/\n",
        "\n",
        "###Numpy Arrays:\n",
        "\n",
        "https://thispointer.com/python-numpy-select-rows-columns-by-index-from-a-2d-ndarray-multi-dimension/\n",
        "\n",
        "###Linear regression using Keras:\n",
        "\n",
        "https://keras.io/\n",
        "\n",
        "https://keras.io/metrics/\n",
        "\n",
        "https://github.com/schneider128k/machine_learning_course/blob/master/keras_basics.md\n",
        "\n",
        "https://github.com/schneider128k/machine_learning_course/blob/master/linear_regression_keras.ipynb\n",
        "\n",
        "https://keras.io/getting-started/sequential-model-guide/\n",
        "\n",
        "###Linear regression using numpy:\n",
        "\n",
        "https://github.com/schneider128k/machine_learning_course/blob/master/linear_regression_simple_numpy_implementation.ipynb\n",
        "\n",
        "###Gradient Descent\n",
        "\n",
        "https://www.youtube.com/watch?v=sDv4f4s2SB8\n",
        "\n",
        "https://github.com/schneider128k/machine_learning_course/blob/master/linear_regression_gradient_descent.ipynb"
      ]
    }
  ]
}